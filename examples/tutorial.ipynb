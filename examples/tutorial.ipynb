{
 "cells": [
  {
   "cell_type": "markdown",
   "metadata": {
    "collapsed": false
   },
   "source": [
    "# Tutorial"
   ]
  },
  {
   "cell_type": "markdown",
   "metadata": {
    "collapsed": false
   },
   "source": [
    "## Introduction\n",
    "\n",
    "Let's get started by instantiating the Lexy client. By default, this will connect to the Lexy server running at `http://localhost:9900`. You can visit the OpenAPI documentation for the server at [`http://localhost:9900/docs`](http://localhost:9900/docs)."
   ]
  },
  {
   "cell_type": "code",
   "execution_count": null,
   "metadata": {
    "collapsed": false
   },
   "outputs": [],
   "source": [
    "from lexy_py import LexyClient\n",
    "\n",
    "lx = LexyClient()"
   ]
  },
  {
   "cell_type": "markdown",
   "metadata": {
    "collapsed": false
   },
   "source": [
    "We can get more information about the Lexy server by calling the `info` method. Here we see existing Collections, Indexes, Transformers, and Bindings."
   ]
  },
  {
   "cell_type": "code",
   "execution_count": null,
   "metadata": {
    "collapsed": false
   },
   "outputs": [],
   "source": [
    "lx.info()"
   ]
  },
  {
   "cell_type": "markdown",
   "metadata": {
    "collapsed": false
   },
   "source": [
    "Let's add some documents to our \"**default**\" collection. We can add them using the `Collection.add_documents` method."
   ]
  },
  {
   "cell_type": "code",
   "execution_count": null,
   "metadata": {
    "collapsed": false
   },
   "outputs": [],
   "source": [
    "lx.add_documents([\n",
    "    {\"content\": \"This is my first document! It's great!\"},\n",
    "    {\"content\": \"Starlink is a satellite internet constellation operated by American aerospace company SpaceX, providing coverage to over 60 countries.\"},\n",
    "    {\"content\": \"A latent space is an embedding of a set of items within a manifold in which items resembling each other are positioned closer to one another.\"}\n",
    "])"
   ]
  },
  {
   "cell_type": "markdown",
   "metadata": {
    "collapsed": false
   },
   "source": [
    "Documents that are added to the \"**default**\" collection are automatically embedded, and the embeddings are stored in the index \"**default_text_embeddings**\"."
   ]
  },
  {
   "cell_type": "markdown",
   "metadata": {
    "collapsed": false
   },
   "source": [
    "<div style=\"text-align: center;\">\n",
    "\n",
    "```mermaid\n",
    "flowchart LR\n",
    "    collection[\"Collection\n",
    "      \n",
    "    &quot;default&quot;\"] \n",
    "    --> \n",
    "    transformer[\"Transformer \n",
    "    \n",
    "    &quot;text.embeddings.minilm&quot;\"]\n",
    "    -->\n",
    "    index[\"Index\n",
    "    \n",
    "    &quot;default_text_embeddings&quot;\"];   \n",
    "```\n",
    "\n",
    "</div>"
   ]
  },
  {
   "cell_type": "markdown",
   "metadata": {
    "collapsed": false
   },
   "source": [
    "We can query the default index for \"_what is deep learning_\" and see our documents ranked by cosine similarity."
   ]
  },
  {
   "cell_type": "code",
   "execution_count": null,
   "metadata": {
    "collapsed": false
   },
   "outputs": [],
   "source": [
    "lx.query_index('what is deep learning')"
   ]
  },
  {
   "cell_type": "markdown",
   "metadata": {
    "collapsed": false
   },
   "source": [
    "## Example: Famous biographies\n",
    "\n",
    "Let's go through a longer example to see how **Collections**, **Documents**, **Indexes**, **Bindings**, and **Transformers** interact with one another. We'll use Lexy to create and query embeddings for a new collection of documents."
   ]
  },
  {
   "cell_type": "markdown",
   "metadata": {
    "collapsed": false
   },
   "source": [
    "### Collections\n",
    "\n",
    "We can see that there are currently two collections, \"**default**\" and \"**code**\"."
   ]
  },
  {
   "cell_type": "code",
   "execution_count": null,
   "metadata": {
    "collapsed": false
   },
   "outputs": [],
   "source": [
    "lx.collections"
   ]
  },
  {
   "cell_type": "markdown",
   "metadata": {
    "collapsed": false
   },
   "source": [
    "Let's create a new \"**bios**\" collection for famous biographies."
   ]
  },
  {
   "cell_type": "code",
   "execution_count": null,
   "metadata": {
    "collapsed": false
   },
   "outputs": [],
   "source": [
    "bios = lx.create_collection('bios', description='Famous biographies')\n",
    "bios"
   ]
  },
  {
   "cell_type": "markdown",
   "metadata": {
    "collapsed": false
   },
   "source": [
    "### Documents\n",
    "\n",
    "We can use the `Collection.list_documents` method to see that our new collection is empty."
   ]
  },
  {
   "cell_type": "code",
   "execution_count": null,
   "metadata": {
    "collapsed": false
   },
   "outputs": [],
   "source": [
    "bios.list_documents()"
   ]
  },
  {
   "cell_type": "markdown",
   "metadata": {
    "collapsed": false
   },
   "source": [
    "Let's add a few documents to our collection."
   ]
  },
  {
   "cell_type": "code",
   "execution_count": null,
   "metadata": {
    "collapsed": false
   },
   "outputs": [],
   "source": [
    "bios.add_documents([\n",
    "    {\"content\": \"Stephen Curry is an American professional basketball player for the Golden State Warriors.\"},\n",
    "    {\"content\": \"Dwayne 'The Rock' Johnson is a well-known actor, former professional wrestler, and businessman.\"},\n",
    "    {\"content\": \"Taylor Swift is a singer known for her songwriting, musical versatility, and artistic reinventions.\"}\n",
    "])"
   ]
  },
  {
   "cell_type": "markdown",
   "metadata": {
    "collapsed": false
   },
   "source": [
    "### Transformers\n",
    "\n",
    "Now we want to create embeddings for the documents in our new collection. We'll use a **`Transformer`** to generate embeddings for our documents. We can use the `LexyClient.transformers` property to see a list of available transformers. "
   ]
  },
  {
   "cell_type": "code",
   "execution_count": null,
   "metadata": {
    "collapsed": false
   },
   "outputs": [],
   "source": [
    "# list of available transformers\n",
    "lx.transformers"
   ]
  },
  {
   "cell_type": "markdown",
   "metadata": {
    "collapsed": false
   },
   "source": [
    "For our embeddings, we'll use the \"**text.embeddings.minilm**\" transformer, which uses the [MiniLM sentence transformer](https://huggingface.co/sentence-transformers/all-MiniLM-L6-v2) model to generate embeddings for text."
   ]
  },
  {
   "cell_type": "markdown",
   "metadata": {
    "collapsed": false
   },
   "source": [
    "### Indexes"
   ]
  },
  {
   "cell_type": "markdown",
   "metadata": {
    "collapsed": false
   },
   "source": [
    "Before we can bind this transformer to our collection, we need to create an **`Index`** for storing the resulting embeddings. \n",
    "\n",
    "Let's create a new index called \"**bios_index**\" with embeddings for our new collection. Our index will have a single field called **`bio_embedding`** that will store the embeddings output from the MiniLM sentence transformer."
   ]
  },
  {
   "cell_type": "code",
   "execution_count": null,
   "metadata": {
    "collapsed": false
   },
   "outputs": [],
   "source": [
    "# define index fields\n",
    "index_fields = {\n",
    "    \"bio_embedding\": {\n",
    "        \"type\": \"embedding\", \"extras\": {\"dims\": 384, \"model\": \"text.embeddings.minilm\"}\n",
    "    }\n",
    "}\n",
    "\n",
    "# create index\n",
    "index = lx.create_index(\n",
    "    index_id='bios_index', \n",
    "    description='Biography embeddings', \n",
    "    index_fields=index_fields)\n",
    "index"
   ]
  },
  {
   "cell_type": "markdown",
   "metadata": {
    "collapsed": false
   },
   "source": [
    "### Bindings"
   ]
  },
  {
   "cell_type": "markdown",
   "metadata": {
    "collapsed": false
   },
   "source": [
    "Now let's create a **`Binding`**. Our binding will:\n",
    "1) Feed the documents in our \"**bios**\" collection into the \"**text.embeddings.minilm**\" transformer, then \n",
    "2) Insert the resulting output in our newly created index, \"**bios_index**\".\n",
    "<br>\n",
    "<h5><center>`bios` Collection &nbsp;&nbsp;&rarr;&nbsp;&nbsp; `text.embeddings.minilm` Transformer &nbsp;&nbsp;&rarr;&nbsp;&nbsp; `bios_index` Index </center></h5>"
   ]
  },
  {
   "cell_type": "markdown",
   "metadata": {
    "collapsed": false
   },
   "source": [
    "<div style=\"text-align: center;\">\n",
    "\n",
    "```mermaid\n",
    "flowchart LR\n",
    "    collection[\"Collection\n",
    "      \n",
    "    &quot;default&quot;\"] \n",
    "    --> \n",
    "    transformer[\"Transformer \n",
    "    \n",
    "    &quot;text.embeddings.minilm&quot;\"]\n",
    "    -->\n",
    "    index[\"Index\n",
    "    \n",
    "    &quot;default_text_embeddings&quot;\"];   \n",
    "```\n",
    "\n",
    "</div>"
   ]
  },
  {
   "cell_type": "code",
   "execution_count": null,
   "metadata": {
    "collapsed": false
   },
   "outputs": [],
   "source": [
    "binding = lx.create_binding(\n",
    "    collection_name='bios',\n",
    "    transformer_id='text.embeddings.minilm',\n",
    "    index_id='bios_index'\n",
    ")\n",
    "binding"
   ]
  },
  {
   "cell_type": "markdown",
   "metadata": {
    "collapsed": false
   },
   "source": [
    "We can now query our index for \"_famous artists_\" and see the results ranked by cosine similarity."
   ]
  },
  {
   "cell_type": "code",
   "execution_count": null,
   "metadata": {
    "collapsed": false
   },
   "outputs": [],
   "source": [
    "index.query(query_text='famous artists', query_field='bio_embedding', k=3)"
   ]
  },
  {
   "cell_type": "markdown",
   "metadata": {
    "collapsed": false
   },
   "source": [
    "Because our binding has status set to \"`ON`\", any new documents added to our collection will automatically be processed by our transformer and inserted into our index as embeddings.\n",
    " \n",
    "Let's add another document."
   ]
  },
  {
   "cell_type": "code",
   "execution_count": null,
   "metadata": {
    "collapsed": false
   },
   "outputs": [],
   "source": [
    "bios.add_documents([\n",
    "    {\"content\": \"Beyoncé is a singer and songwriter recognized for her boundary-pushing artistry, vocals, and performances.\"}\n",
    "])"
   ]
  },
  {
   "cell_type": "markdown",
   "metadata": {
    "collapsed": false
   },
   "source": [
    "Now let's run the same query again for \"_famous artists_\". We can see the results have been updated and include our new document."
   ]
  },
  {
   "cell_type": "code",
   "execution_count": null,
   "metadata": {
    "collapsed": false
   },
   "outputs": [],
   "source": [
    "index.query(query_text='famous artists', query_field='bio_embedding', k=3)"
   ]
  },
  {
   "cell_type": "markdown",
   "metadata": {
    "collapsed": false
   },
   "source": [
    "## Next steps"
   ]
  },
  {
   "cell_type": "markdown",
   "metadata": {
    "collapsed": false
   },
   "source": [
    "### Custom transformers\n",
    "\n",
    "So far, we've only used the default transformers included in Lexy. Let's see how we can easily create our own transformers."
   ]
  },
  {
   "cell_type": "markdown",
   "metadata": {
    "collapsed": false
   },
   "source": [
    "_Coming soon._"
   ]
  },
  {
   "cell_type": "markdown",
   "metadata": {
    "collapsed": false
   },
   "source": [
    "### Document filters"
   ]
  },
  {
   "cell_type": "markdown",
   "metadata": {
    "collapsed": false
   },
   "source": [
    "_Coming soon._"
   ]
  }
 ],
 "metadata": {
  "kernelspec": {
   "display_name": "Python 3 (ipykernel)",
   "language": "python",
   "name": "python3"
  },
  "language_info": {
   "codemirror_mode": {
    "name": "ipython",
    "version": 3
   },
   "file_extension": ".py",
   "mimetype": "text/x-python",
   "name": "python",
   "nbconvert_exporter": "python",
   "pygments_lexer": "ipython3",
   "version": "3.11.5"
  }
 },
 "nbformat": 4,
 "nbformat_minor": 4
}
